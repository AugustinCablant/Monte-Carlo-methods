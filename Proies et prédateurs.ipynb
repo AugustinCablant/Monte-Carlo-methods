{
 "cells": [
  {
   "cell_type": "code",
   "execution_count": 1,
   "metadata": {},
   "outputs": [],
   "source": [
    "import numpy as np \n",
    "import pandas as pd \n",
    "import matplotlib.pyplot as plt \n",
    "import math"
   ]
  },
  {
   "cell_type": "markdown",
   "metadata": {},
   "source": [
    "# Modèle et notations : \n",
    "\n",
    "[Article](https://link.springer.com/article/10.1007/s11222-007-9043-x)\n",
    "\n",
    "Modèle cinétique stochastique de base : évolution de $u$ espèces $Y_i$ régies par $v$ équations de réaction $R_k$ :\n",
    "\n",
    "$ R_k \\space : \\space p_{k,1}Y_1 \\space + \\space ... \\space + \\space p_{k,u}Y_u \\space \\rightarrow \\space q_{k,1}Y_1 \\space + \\space  ... \\space + \\space q_{k,u}Y_u \\space , \\space k \\in $ {$1,...,v$}.\n",
    "\n",
    "$p_{k,j} \\space , \\space  q_{k,j} $ sont des paramètres stœchiométriques.\n",
    "\n",
    "Chaque réaction $ R_k $ a un taux stochastique $ \\theta _k $ et une fonction de risque instantanée $ h_k (Y, \\theta _k )$ où $ Y = (Y_1, ..., Y_u) $. \n",
    "\n",
    "Une conséquence du modèle est qu'au temps $t$, le temps de la prochaine reaction a une distribution exponentielle avec un paramètre $h_0 (Y, \\theta) = \\sum _{i=1} ^v h_i (Y, \\theta _i )$ et la réaction est de type $k$ avec probabilité $ \\pi _k = \\displaystyle \\frac{h_k (Y, \\theta _k )}{ \\sum _{i=1} ^v h_i (Y, \\theta _i )} = \\displaystyle \\frac{h_k (Y, \\theta _k )}{h_0 (Y, \\theta)}$. \n"
   ]
  },
  {
   "cell_type": "markdown",
   "metadata": {},
   "source": [
    "## Modélisation par l’algorithme de Gillespie"
   ]
  },
  {
   "cell_type": "markdown",
   "metadata": {},
   "source": [
    "### Modèle de Lotka-Volterra \n",
    "\n",
    "Ce modèle décrit l'évolution de deux espèces $Y_1$ (proies) et $Y_2$ (prédateurs) en utilisant les trois équations suivantes : \n",
    "\n",
    "$ Y_1 \\xrightarrow{ \\theta _1} 2 Y_1 \\space $ (Reproduction des proies)  \n",
    "\n",
    "$ Y_1 + y_2 \\xrightarrow{ \\theta _2} 2 Y_2 \\space $ (Reproduction des prédateurs)\n",
    "\n",
    "$ Y_2 \\xrightarrow{ \\theta _3} \\emptyset \\space $ (Mort des prédateurs)\n",
    "\n",
    "Ainsi, le modèle de Lotka-Volterra est un processus de saut de Markov où chaque réaction se produit à un taux particulier qui dépend de l’état actuel du système. "
   ]
  },
  {
   "cell_type": "code",
   "execution_count": null,
   "metadata": {},
   "outputs": [],
   "source": []
  }
 ],
 "metadata": {
  "kernelspec": {
   "display_name": "base",
   "language": "python",
   "name": "python3"
  },
  "language_info": {
   "codemirror_mode": {
    "name": "ipython",
    "version": 3
   },
   "file_extension": ".py",
   "mimetype": "text/x-python",
   "name": "python",
   "nbconvert_exporter": "python",
   "pygments_lexer": "ipython3",
   "version": "3.9.12"
  },
  "orig_nbformat": 4
 },
 "nbformat": 4,
 "nbformat_minor": 2
}
