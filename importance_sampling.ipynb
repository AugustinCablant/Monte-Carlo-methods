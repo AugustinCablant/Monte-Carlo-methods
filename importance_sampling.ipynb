{
 "cells": [
  {
   "cell_type": "code",
   "execution_count": 3,
   "metadata": {},
   "outputs": [],
   "source": [
    "\"\"\"  Importance sampling, les bases.\n",
    "\n",
    "\"\"\"\n",
    "import numpy as np \n",
    "from scipy import stats"
   ]
  },
  {
   "cell_type": "code",
   "execution_count": 2,
   "metadata": {},
   "outputs": [],
   "source": [
    "def importance_sampling(target, proposal, phi, N=1_000):\n",
    "    x = proposal.rvs(size=N)\n",
    "    lw = target.logpdf(x) - proposal.logpdf(x)  #densité et proba --> utiliser l'échelle du log\n",
    "    w = exp_and_normalise(lw)\n",
    "    return np.average(phi(x), weights=w)\n",
    "\n",
    "def exp_and_normalise(lw):\n",
    "    \"\"\"  Compute exp(lw) / sum(exp(lw))\n",
    "    \n",
    "    Parameter\n",
    "    ----------\n",
    "    lw : numpy.array\n",
    "        log weights \n",
    "    \n",
    "    Output\n",
    "    ---------\n",
    "    w : numpy.array\n",
    "        normalised weights\n",
    "    \"\"\"\n",
    "\n",
    "    m = lw.max()\n",
    "    w = np.exp(lw - m)\n",
    "    return w / np.sum(w)"
   ]
  },
  {
   "cell_type": "code",
   "execution_count": 4,
   "metadata": {},
   "outputs": [
    {
     "name": "stdout",
     "output_type": "stream",
     "text": [
      "-0.005948705907999084\n"
     ]
    }
   ],
   "source": [
    "target = stats.norm()   # N(0,1)\n",
    "proposal = stats.t(3)  # student nu=3\n",
    "phi = lambda x : x\n",
    "est = importance_sampling(target, proposal, phi, N=1_000)\n",
    "print(est)"
   ]
  },
  {
   "cell_type": "code",
   "execution_count": null,
   "metadata": {},
   "outputs": [],
   "source": []
  },
  {
   "cell_type": "code",
   "execution_count": null,
   "metadata": {},
   "outputs": [],
   "source": []
  },
  {
   "cell_type": "code",
   "execution_count": null,
   "metadata": {},
   "outputs": [],
   "source": []
  }
 ],
 "metadata": {
  "kernelspec": {
   "display_name": "base",
   "language": "python",
   "name": "python3"
  },
  "language_info": {
   "codemirror_mode": {
    "name": "ipython",
    "version": 3
   },
   "file_extension": ".py",
   "mimetype": "text/x-python",
   "name": "python",
   "nbconvert_exporter": "python",
   "pygments_lexer": "ipython3",
   "version": "3.9.12"
  }
 },
 "nbformat": 4,
 "nbformat_minor": 2
}
