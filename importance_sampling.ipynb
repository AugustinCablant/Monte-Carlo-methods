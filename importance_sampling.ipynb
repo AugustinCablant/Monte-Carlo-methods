{
 "cells": [
  {
   "cell_type": "code",
   "execution_count": 7,
   "metadata": {},
   "outputs": [],
   "source": [
    "\"\"\"  Importance sampling, les bases.\n",
    "\n",
    "\"\"\"\n",
    "import numpy as np \n",
    "from scipy import stats\n",
    "import matplotlib.pyplot as plt"
   ]
  },
  {
   "cell_type": "code",
   "execution_count": 2,
   "metadata": {},
   "outputs": [],
   "source": [
    "def importance_sampling(target, proposal, phi, N=1_000):\n",
    "    x = proposal.rvs(size=N)\n",
    "    lw = target.logpdf(x) - proposal.logpdf(x)  #densité et proba --> utiliser l'échelle du log\n",
    "    w = exp_and_normalise(lw)\n",
    "    return np.average(phi(x), weights=w)\n",
    "\n",
    "def exp_and_normalise(lw):\n",
    "    \"\"\"  Compute exp(lw) / sum(exp(lw))\n",
    "    \n",
    "    Parameter\n",
    "    ----------\n",
    "    lw : numpy.array\n",
    "        log weights \n",
    "    \n",
    "    Output\n",
    "    ---------\n",
    "    w : numpy.array\n",
    "        normalised weights\n",
    "    \"\"\"\n",
    "\n",
    "    m = lw.max()\n",
    "    w = np.exp(lw - m)\n",
    "    return w / np.sum(w)"
   ]
  },
  {
   "cell_type": "code",
   "execution_count": 5,
   "metadata": {},
   "outputs": [],
   "source": [
    "target = stats.norm()   # N(0,1)\n",
    "proposal = stats.t(3)  # student nu=3\n",
    "phi = lambda x : x\n",
    "results = [importance_sampling(target, proposal, phi, N=1_000) for _ in range(200)]"
   ]
  },
  {
   "cell_type": "code",
   "execution_count": 13,
   "metadata": {},
   "outputs": [
    {
     "data": {
      "text/plain": [
       "(array([ 2.,  8., 12., 16., 38., 50., 38., 23.,  8.,  5.]),\n",
       " array([-0.09279482, -0.07518221, -0.05756959, -0.03995698, -0.02234436,\n",
       "        -0.00473175,  0.01288087,  0.03049348,  0.0481061 ,  0.06571871,\n",
       "         0.08333133]),\n",
       " <BarContainer object of 10 artists>)"
      ]
     },
     "execution_count": 13,
     "metadata": {},
     "output_type": "execute_result"
    },
    {
     "data": {
      "image/png": "[encoded data removed]",
      "text/plain": [
       "<Figure size 640x480 with 1 Axes>"
      ]
     },
     "metadata": {},
     "output_type": "display_data"
    }
   ],
   "source": [
    "plt.hist(results, bins = 10)"
   ]
  },
  {
   "cell_type": "code",
   "execution_count": null,
   "metadata": {},
   "outputs": [],
   "source": []
  },
  {
   "cell_type": "code",
   "execution_count": null,
   "metadata": {},
   "outputs": [],
   "source": []
  }
 ],
 "metadata": {
  "kernelspec": {
   "display_name": "base",
   "language": "python",
   "name": "python3"
  },
  "language_info": {
   "codemirror_mode": {
    "name": "ipython",
    "version": 3
   },
   "file_extension": ".py",
   "mimetype": "text/x-python",
   "name": "python",
   "nbconvert_exporter": "python",
   "pygments_lexer": "ipython3",
   "version": "3.9.12"
  }
 },
 "nbformat": 4,
 "nbformat_minor": 2
}
